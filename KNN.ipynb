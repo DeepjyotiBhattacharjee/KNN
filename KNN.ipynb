{
 "cells": [
  {
   "cell_type": "code",
   "execution_count": 1,
   "id": "4d61d641",
   "metadata": {},
   "outputs": [],
   "source": [
    "import pandas as pd\n",
    "import matplotlib.pyplot as plt\n",
    "import seaborn as sns\n",
    "from sklearn.model_selection import GridSearchCV, train_test_split\n",
    "from sklearn.neighbors import KNeighborsClassifier\n",
    "from sklearn.metrics import accuracy_score\n",
    "from sklearn.preprocessing import MinMaxScaler"
   ]
  },
  {
   "cell_type": "code",
   "execution_count": 2,
   "id": "0c0d7336",
   "metadata": {},
   "outputs": [
    {
     "data": {
      "text/html": [
       "<div>\n",
       "<style scoped>\n",
       "    .dataframe tbody tr th:only-of-type {\n",
       "        vertical-align: middle;\n",
       "    }\n",
       "\n",
       "    .dataframe tbody tr th {\n",
       "        vertical-align: top;\n",
       "    }\n",
       "\n",
       "    .dataframe thead th {\n",
       "        text-align: right;\n",
       "    }\n",
       "</style>\n",
       "<table border=\"1\" class=\"dataframe\">\n",
       "  <thead>\n",
       "    <tr style=\"text-align: right;\">\n",
       "      <th></th>\n",
       "      <th>Id number</th>\n",
       "      <th>RI</th>\n",
       "      <th>Na</th>\n",
       "      <th>Mg</th>\n",
       "      <th>Al</th>\n",
       "      <th>Si</th>\n",
       "      <th>K</th>\n",
       "      <th>Ca</th>\n",
       "      <th>Ba</th>\n",
       "      <th>Fe</th>\n",
       "      <th>Type of glass</th>\n",
       "    </tr>\n",
       "  </thead>\n",
       "  <tbody>\n",
       "    <tr>\n",
       "      <th>0</th>\n",
       "      <td>1</td>\n",
       "      <td>1.52101</td>\n",
       "      <td>13.64</td>\n",
       "      <td>4.49</td>\n",
       "      <td>1.10</td>\n",
       "      <td>71.78</td>\n",
       "      <td>0.06</td>\n",
       "      <td>8.75</td>\n",
       "      <td>0.0</td>\n",
       "      <td>0.0</td>\n",
       "      <td>1</td>\n",
       "    </tr>\n",
       "    <tr>\n",
       "      <th>1</th>\n",
       "      <td>2</td>\n",
       "      <td>1.51761</td>\n",
       "      <td>13.89</td>\n",
       "      <td>3.60</td>\n",
       "      <td>1.36</td>\n",
       "      <td>72.73</td>\n",
       "      <td>0.48</td>\n",
       "      <td>7.83</td>\n",
       "      <td>0.0</td>\n",
       "      <td>0.0</td>\n",
       "      <td>1</td>\n",
       "    </tr>\n",
       "    <tr>\n",
       "      <th>2</th>\n",
       "      <td>3</td>\n",
       "      <td>1.51618</td>\n",
       "      <td>13.53</td>\n",
       "      <td>3.55</td>\n",
       "      <td>1.54</td>\n",
       "      <td>72.99</td>\n",
       "      <td>0.39</td>\n",
       "      <td>7.78</td>\n",
       "      <td>0.0</td>\n",
       "      <td>0.0</td>\n",
       "      <td>1</td>\n",
       "    </tr>\n",
       "    <tr>\n",
       "      <th>3</th>\n",
       "      <td>4</td>\n",
       "      <td>1.51766</td>\n",
       "      <td>13.21</td>\n",
       "      <td>3.69</td>\n",
       "      <td>1.29</td>\n",
       "      <td>72.61</td>\n",
       "      <td>0.57</td>\n",
       "      <td>8.22</td>\n",
       "      <td>0.0</td>\n",
       "      <td>0.0</td>\n",
       "      <td>1</td>\n",
       "    </tr>\n",
       "    <tr>\n",
       "      <th>4</th>\n",
       "      <td>5</td>\n",
       "      <td>1.51742</td>\n",
       "      <td>13.27</td>\n",
       "      <td>3.62</td>\n",
       "      <td>1.24</td>\n",
       "      <td>73.08</td>\n",
       "      <td>0.55</td>\n",
       "      <td>8.07</td>\n",
       "      <td>0.0</td>\n",
       "      <td>0.0</td>\n",
       "      <td>1</td>\n",
       "    </tr>\n",
       "  </tbody>\n",
       "</table>\n",
       "</div>"
      ],
      "text/plain": [
       "   Id number       RI     Na    Mg    Al     Si     K    Ca   Ba   Fe  \\\n",
       "0          1  1.52101  13.64  4.49  1.10  71.78  0.06  8.75  0.0  0.0   \n",
       "1          2  1.51761  13.89  3.60  1.36  72.73  0.48  7.83  0.0  0.0   \n",
       "2          3  1.51618  13.53  3.55  1.54  72.99  0.39  7.78  0.0  0.0   \n",
       "3          4  1.51766  13.21  3.69  1.29  72.61  0.57  8.22  0.0  0.0   \n",
       "4          5  1.51742  13.27  3.62  1.24  73.08  0.55  8.07  0.0  0.0   \n",
       "\n",
       "   Type of glass  \n",
       "0              1  \n",
       "1              1  \n",
       "2              1  \n",
       "3              1  \n",
       "4              1  "
      ]
     },
     "execution_count": 2,
     "metadata": {},
     "output_type": "execute_result"
    }
   ],
   "source": [
    "data = pd.read_csv(\"https://gist.githubusercontent.com/yifancui/e1d5ce0ba59ba0c275c0e2efed542a37/raw/dde7dbca24429542ff78964b83aaf064142dd771/data.csv\")\n",
    "data.head()"
   ]
  },
  {
   "cell_type": "code",
   "execution_count": 4,
   "id": "a23d4fc3",
   "metadata": {},
   "outputs": [
    {
     "data": {
      "text/plain": [
       "2    76\n",
       "1    70\n",
       "7    29\n",
       "3    17\n",
       "5    13\n",
       "6     9\n",
       "Name: Type of glass, dtype: int64"
      ]
     },
     "execution_count": 4,
     "metadata": {},
     "output_type": "execute_result"
    }
   ],
   "source": [
    "data['Type of glass'].value_counts()"
   ]
  },
  {
   "cell_type": "code",
   "execution_count": 5,
   "id": "1591cf1a",
   "metadata": {},
   "outputs": [],
   "source": [
    "# we have 6 types of glass -> multiclass classification"
   ]
  },
  {
   "cell_type": "code",
   "execution_count": 7,
   "id": "39abb219",
   "metadata": {},
   "outputs": [
    {
     "data": {
      "text/plain": [
       "0"
      ]
     },
     "execution_count": 7,
     "metadata": {},
     "output_type": "execute_result"
    }
   ],
   "source": [
    "data.duplicated().sum()"
   ]
  },
  {
   "cell_type": "code",
   "execution_count": 8,
   "id": "4b47dd67",
   "metadata": {},
   "outputs": [],
   "source": [
    "X = data.drop(\"Type of glass\",axis=1)"
   ]
  },
  {
   "cell_type": "code",
   "execution_count": 10,
   "id": "fdd5c6d4",
   "metadata": {},
   "outputs": [],
   "source": [
    "y = data[\"Type of glass\"]"
   ]
  },
  {
   "cell_type": "code",
   "execution_count": 11,
   "id": "c730cb1d",
   "metadata": {},
   "outputs": [
    {
     "data": {
      "text/html": [
       "<div>\n",
       "<style scoped>\n",
       "    .dataframe tbody tr th:only-of-type {\n",
       "        vertical-align: middle;\n",
       "    }\n",
       "\n",
       "    .dataframe tbody tr th {\n",
       "        vertical-align: top;\n",
       "    }\n",
       "\n",
       "    .dataframe thead th {\n",
       "        text-align: right;\n",
       "    }\n",
       "</style>\n",
       "<table border=\"1\" class=\"dataframe\">\n",
       "  <thead>\n",
       "    <tr style=\"text-align: right;\">\n",
       "      <th></th>\n",
       "      <th>Id number</th>\n",
       "      <th>RI</th>\n",
       "      <th>Na</th>\n",
       "      <th>Mg</th>\n",
       "      <th>Al</th>\n",
       "      <th>Si</th>\n",
       "      <th>K</th>\n",
       "      <th>Ca</th>\n",
       "      <th>Ba</th>\n",
       "      <th>Fe</th>\n",
       "    </tr>\n",
       "  </thead>\n",
       "  <tbody>\n",
       "    <tr>\n",
       "      <th>0</th>\n",
       "      <td>1</td>\n",
       "      <td>1.52101</td>\n",
       "      <td>13.64</td>\n",
       "      <td>4.49</td>\n",
       "      <td>1.10</td>\n",
       "      <td>71.78</td>\n",
       "      <td>0.06</td>\n",
       "      <td>8.75</td>\n",
       "      <td>0.00</td>\n",
       "      <td>0.0</td>\n",
       "    </tr>\n",
       "    <tr>\n",
       "      <th>1</th>\n",
       "      <td>2</td>\n",
       "      <td>1.51761</td>\n",
       "      <td>13.89</td>\n",
       "      <td>3.60</td>\n",
       "      <td>1.36</td>\n",
       "      <td>72.73</td>\n",
       "      <td>0.48</td>\n",
       "      <td>7.83</td>\n",
       "      <td>0.00</td>\n",
       "      <td>0.0</td>\n",
       "    </tr>\n",
       "    <tr>\n",
       "      <th>2</th>\n",
       "      <td>3</td>\n",
       "      <td>1.51618</td>\n",
       "      <td>13.53</td>\n",
       "      <td>3.55</td>\n",
       "      <td>1.54</td>\n",
       "      <td>72.99</td>\n",
       "      <td>0.39</td>\n",
       "      <td>7.78</td>\n",
       "      <td>0.00</td>\n",
       "      <td>0.0</td>\n",
       "    </tr>\n",
       "    <tr>\n",
       "      <th>3</th>\n",
       "      <td>4</td>\n",
       "      <td>1.51766</td>\n",
       "      <td>13.21</td>\n",
       "      <td>3.69</td>\n",
       "      <td>1.29</td>\n",
       "      <td>72.61</td>\n",
       "      <td>0.57</td>\n",
       "      <td>8.22</td>\n",
       "      <td>0.00</td>\n",
       "      <td>0.0</td>\n",
       "    </tr>\n",
       "    <tr>\n",
       "      <th>4</th>\n",
       "      <td>5</td>\n",
       "      <td>1.51742</td>\n",
       "      <td>13.27</td>\n",
       "      <td>3.62</td>\n",
       "      <td>1.24</td>\n",
       "      <td>73.08</td>\n",
       "      <td>0.55</td>\n",
       "      <td>8.07</td>\n",
       "      <td>0.00</td>\n",
       "      <td>0.0</td>\n",
       "    </tr>\n",
       "    <tr>\n",
       "      <th>...</th>\n",
       "      <td>...</td>\n",
       "      <td>...</td>\n",
       "      <td>...</td>\n",
       "      <td>...</td>\n",
       "      <td>...</td>\n",
       "      <td>...</td>\n",
       "      <td>...</td>\n",
       "      <td>...</td>\n",
       "      <td>...</td>\n",
       "      <td>...</td>\n",
       "    </tr>\n",
       "    <tr>\n",
       "      <th>209</th>\n",
       "      <td>210</td>\n",
       "      <td>1.51623</td>\n",
       "      <td>14.14</td>\n",
       "      <td>0.00</td>\n",
       "      <td>2.88</td>\n",
       "      <td>72.61</td>\n",
       "      <td>0.08</td>\n",
       "      <td>9.18</td>\n",
       "      <td>1.06</td>\n",
       "      <td>0.0</td>\n",
       "    </tr>\n",
       "    <tr>\n",
       "      <th>210</th>\n",
       "      <td>211</td>\n",
       "      <td>1.51685</td>\n",
       "      <td>14.92</td>\n",
       "      <td>0.00</td>\n",
       "      <td>1.99</td>\n",
       "      <td>73.06</td>\n",
       "      <td>0.00</td>\n",
       "      <td>8.40</td>\n",
       "      <td>1.59</td>\n",
       "      <td>0.0</td>\n",
       "    </tr>\n",
       "    <tr>\n",
       "      <th>211</th>\n",
       "      <td>212</td>\n",
       "      <td>1.52065</td>\n",
       "      <td>14.36</td>\n",
       "      <td>0.00</td>\n",
       "      <td>2.02</td>\n",
       "      <td>73.42</td>\n",
       "      <td>0.00</td>\n",
       "      <td>8.44</td>\n",
       "      <td>1.64</td>\n",
       "      <td>0.0</td>\n",
       "    </tr>\n",
       "    <tr>\n",
       "      <th>212</th>\n",
       "      <td>213</td>\n",
       "      <td>1.51651</td>\n",
       "      <td>14.38</td>\n",
       "      <td>0.00</td>\n",
       "      <td>1.94</td>\n",
       "      <td>73.61</td>\n",
       "      <td>0.00</td>\n",
       "      <td>8.48</td>\n",
       "      <td>1.57</td>\n",
       "      <td>0.0</td>\n",
       "    </tr>\n",
       "    <tr>\n",
       "      <th>213</th>\n",
       "      <td>214</td>\n",
       "      <td>1.51711</td>\n",
       "      <td>14.23</td>\n",
       "      <td>0.00</td>\n",
       "      <td>2.08</td>\n",
       "      <td>73.36</td>\n",
       "      <td>0.00</td>\n",
       "      <td>8.62</td>\n",
       "      <td>1.67</td>\n",
       "      <td>0.0</td>\n",
       "    </tr>\n",
       "  </tbody>\n",
       "</table>\n",
       "<p>214 rows × 10 columns</p>\n",
       "</div>"
      ],
      "text/plain": [
       "     Id number       RI     Na    Mg    Al     Si     K    Ca    Ba   Fe\n",
       "0            1  1.52101  13.64  4.49  1.10  71.78  0.06  8.75  0.00  0.0\n",
       "1            2  1.51761  13.89  3.60  1.36  72.73  0.48  7.83  0.00  0.0\n",
       "2            3  1.51618  13.53  3.55  1.54  72.99  0.39  7.78  0.00  0.0\n",
       "3            4  1.51766  13.21  3.69  1.29  72.61  0.57  8.22  0.00  0.0\n",
       "4            5  1.51742  13.27  3.62  1.24  73.08  0.55  8.07  0.00  0.0\n",
       "..         ...      ...    ...   ...   ...    ...   ...   ...   ...  ...\n",
       "209        210  1.51623  14.14  0.00  2.88  72.61  0.08  9.18  1.06  0.0\n",
       "210        211  1.51685  14.92  0.00  1.99  73.06  0.00  8.40  1.59  0.0\n",
       "211        212  1.52065  14.36  0.00  2.02  73.42  0.00  8.44  1.64  0.0\n",
       "212        213  1.51651  14.38  0.00  1.94  73.61  0.00  8.48  1.57  0.0\n",
       "213        214  1.51711  14.23  0.00  2.08  73.36  0.00  8.62  1.67  0.0\n",
       "\n",
       "[214 rows x 10 columns]"
      ]
     },
     "execution_count": 11,
     "metadata": {},
     "output_type": "execute_result"
    }
   ],
   "source": [
    "X"
   ]
  },
  {
   "cell_type": "code",
   "execution_count": 12,
   "id": "8d0ec5b4",
   "metadata": {},
   "outputs": [
    {
     "data": {
      "text/plain": [
       "0      1\n",
       "1      1\n",
       "2      1\n",
       "3      1\n",
       "4      1\n",
       "      ..\n",
       "209    7\n",
       "210    7\n",
       "211    7\n",
       "212    7\n",
       "213    7\n",
       "Name: Type of glass, Length: 214, dtype: int64"
      ]
     },
     "execution_count": 12,
     "metadata": {},
     "output_type": "execute_result"
    }
   ],
   "source": [
    "y"
   ]
  },
  {
   "cell_type": "code",
   "execution_count": 13,
   "id": "266cf1ca",
   "metadata": {},
   "outputs": [],
   "source": [
    "X_train, X_test, y_train, y_test = train_test_split(X,y,test_size=0.2,random_state=42)"
   ]
  },
  {
   "cell_type": "markdown",
   "id": "0a51c509",
   "metadata": {},
   "source": [
    "### Note : wherever we have distance in algorithm, we will use scaling"
   ]
  },
  {
   "cell_type": "code",
   "execution_count": 14,
   "id": "05b60e6e",
   "metadata": {},
   "outputs": [],
   "source": [
    "# scaling\n",
    "\n",
    "scaler = MinMaxScaler()\n",
    "X_train = scaler.fit_transform(X_train)\n",
    "X_test = scaler.transform(X_test)"
   ]
  },
  {
   "cell_type": "code",
   "execution_count": 15,
   "id": "3d9fcfab",
   "metadata": {},
   "outputs": [
    {
     "data": {
      "text/plain": [
       "array([[0.37089202, 0.20291777, 0.41304348, ..., 0.23605948, 0.        ,\n",
       "        0.        ],\n",
       "       [0.75586854, 0.35499558, 0.57509881, ..., 0.32156134, 0.04761905,\n",
       "        0.47058824],\n",
       "       [0.51173709, 0.30371353, 0.59090909, ..., 0.51672862, 0.        ,\n",
       "        0.        ],\n",
       "       ...,\n",
       "       [0.43192488, 0.2020336 , 0.47233202, ..., 0.27509294, 0.        ,\n",
       "        0.37254902],\n",
       "       [0.84037559, 0.31874447, 0.66403162, ..., 0.36152416, 0.        ,\n",
       "        0.        ],\n",
       "       [0.47887324, 0.3045977 , 0.37351779, ..., 0.37081784, 0.        ,\n",
       "        0.39215686]])"
      ]
     },
     "execution_count": 15,
     "metadata": {},
     "output_type": "execute_result"
    }
   ],
   "source": [
    "X_train"
   ]
  },
  {
   "cell_type": "code",
   "execution_count": 16,
   "id": "f80d0415",
   "metadata": {},
   "outputs": [
    {
     "data": {
      "text/plain": [
       "array([[ 0.04225352,  0.27586207,  0.4486166 ,  0.80178174,  0.33333333,\n",
       "         0.59217877,  0.09178744,  0.2760223 ,  0.        ,  0.21568627],\n",
       "       [ 0.92488263,  0.26348364,  0.78458498,  0.        ,  0.63862928,\n",
       "         0.6461825 ,  0.        ,  0.32713755,  0.20952381,  0.        ],\n",
       "       [ 0.30985915,  0.45137047,  0.45849802,  0.81291759,  0.18068536,\n",
       "         0.44878957,  0.03059581,  0.41078067,  0.        ,  0.33333333],\n",
       "       [ 0.89671362,  0.20822281,  0.81422925,  0.        ,  0.65109034,\n",
       "         0.6461825 ,  0.        ,  0.30947955,  0.2031746 ,  0.17647059],\n",
       "       [ 0.54929577,  0.255084  ,  0.59090909,  0.81959911,  0.47352025,\n",
       "         0.41899441,  0.10305958,  0.22769517,  0.        ,  0.        ],\n",
       "       [ 0.52112676,  0.71087533,  0.05731225,  0.        ,  0.14330218,\n",
       "         0.60893855,  0.        ,  0.88568773,  0.        ,  0.        ],\n",
       "       [ 0.07042254,  0.27851459,  0.41106719,  0.78841871,  0.29283489,\n",
       "         0.63873371,  0.09339775,  0.27509294,  0.        ,  0.        ],\n",
       "       [ 0.40375587,  0.19363395,  0.49604743,  0.77728285,  0.36760125,\n",
       "         0.6405959 ,  0.06119163,  0.24163569,  0.        ,  0.        ],\n",
       "       [ 0.35211268,  0.20291777,  0.45256917,  0.79732739,  0.38006231,\n",
       "         0.61638734,  0.11111111,  0.23513011,  0.        ,  0.        ],\n",
       "       [ 0.67605634,  0.23386384,  0.44664032,  0.70824053,  0.29283489,\n",
       "         0.58845438,  0.09339775,  0.31412639,  0.        ,  0.47058824],\n",
       "       [ 0.85446009,  0.34703802,  0.67588933,  0.        ,  0.56074766,\n",
       "         0.54562384,  0.        ,  0.50650558,  0.        ,  0.        ],\n",
       "       [ 0.79812207,  0.54730327,  0.53557312,  0.        ,  0.40186916,\n",
       "         0.44878957,  0.05152979,  0.63289963,  0.        ,  0.        ],\n",
       "       [ 0.66197183,  0.31830239,  0.48814229,  0.80846325,  0.24299065,\n",
       "         0.56238361,  0.09178744,  0.27695167,  0.02857143,  0.33333333],\n",
       "       [ 0.342723  ,  0.22104332,  0.51581028,  0.79510022,  0.39875389,\n",
       "         0.5698324 ,  0.09822866,  0.22862454,  0.        ,  0.        ],\n",
       "       [ 0.83568075,  0.30857648,  0.73715415,  0.49888641,  0.41433022,\n",
       "         0.47858473,  0.        ,  0.35594796,  0.        ,  0.        ],\n",
       "       [ 0.78403756,  0.37046861,  0.37747036,  0.        ,  0.42367601,\n",
       "         0.73370577,  0.06119163,  0.5669145 ,  0.        ,  0.        ],\n",
       "       [ 0.89201878,  0.21308576,  0.62252964,  0.39643653,  0.46728972,\n",
       "         0.61266294,  0.        ,  0.30111524,  0.24126984,  0.        ],\n",
       "       [ 0.08450704,  0.34482759,  0.62648221,  0.83073497,  0.27725857,\n",
       "         0.4301676 ,  0.00966184,  0.32156134,  0.        ,  0.        ],\n",
       "       [ 0.21126761,  0.33996463,  0.54545455,  0.77505568,  0.33021807,\n",
       "         0.39851024,  0.08856683,  0.33178439,  0.        ,  0.        ],\n",
       "       [ 0.86384977, -0.00707339,  1.31422925,  0.        ,  0.01557632,\n",
       "         1.04283054,  0.        ,  0.1133829 ,  0.        ,  0.        ],\n",
       "       [ 0.4600939 ,  0.24668435,  0.38339921,  0.64142539,  0.4423676 ,\n",
       "         0.63314711,  0.11755233,  0.28903346,  0.        ,  0.        ],\n",
       "       [ 0.98122066,  0.21750663,  0.67391304,  0.        ,  0.80685358,\n",
       "         0.52141527,  0.01288245,  0.34851301,  0.33650794,  0.        ],\n",
       "       [ 0.99061033,  0.41290893,  0.7173913 ,  0.        ,  0.53894081,\n",
       "         0.67225326,  0.        ,  0.27973978,  0.52063492,  0.        ],\n",
       "       [ 0.91549296,  0.18302387,  0.67391304,  0.        ,  0.74454829,\n",
       "         0.66666667,  0.01288245,  0.33828996,  0.19365079,  0.09803922],\n",
       "       [ 0.69483568,  0.2382847 ,  0.49604743,  0.79510022,  0.33956386,\n",
       "         0.53817505,  0.09017713,  0.27973978,  0.        ,  0.19607843],\n",
       "       [ 0.48826291,  0.56542882,  0.61264822,  0.64587973,  0.2741433 ,\n",
       "         0.24953445,  0.01288245,  0.49814126,  0.        ,  0.        ],\n",
       "       [ 0.14084507,  0.2816092 ,  0.37944664,  0.79287305,  0.31464174,\n",
       "         0.60893855,  0.09822866,  0.30297398,  0.        ,  0.2745098 ],\n",
       "       [ 0.11737089,  0.27984085,  0.44466403,  0.78841871,  0.28660436,\n",
       "         0.59404097,  0.10466989,  0.28810409,  0.        ,  0.        ],\n",
       "       [ 0.82159624,  0.43678161,  0.44268775,  0.07349666,  0.38006231,\n",
       "         0.66666667,  0.02093398,  0.54275093,  0.        ,  0.54901961],\n",
       "       [ 0.07511737,  0.28868258,  0.38537549,  0.81737194,  0.27102804,\n",
       "         0.61452514,  0.09822866,  0.30390335,  0.        ,  0.        ],\n",
       "       [ 0.25821596,  0.28205128,  0.33992095,  0.60356347,  0.31152648,\n",
       "         0.72439479,  0.09017713,  0.33736059,  0.        ,  0.47058824],\n",
       "       [ 0.64788732,  0.24005305,  0.40711462,  0.78396437,  0.3894081 ,\n",
       "         0.66108007,  0.10628019,  0.2295539 ,  0.        ,  0.        ],\n",
       "       [ 0.74178404,  0.28514589,  0.55335968,  0.75946548,  0.38317757,\n",
       "         0.41527002,  0.09339775,  0.31226766,  0.        ,  0.        ],\n",
       "       [ 0.43661972,  0.20291777,  0.49604743,  0.74387528,  0.36760125,\n",
       "         0.61266294,  0.06280193,  0.25929368,  0.        ,  0.        ],\n",
       "       [ 0.32394366,  0.51679929,  0.50988142,  0.79732739,  0.16510903,\n",
       "         0.40595903,  0.01932367,  0.44052045,  0.        ,  0.05882353],\n",
       "       [ 0.95305164,  0.23297966,  0.80434783,  0.        ,  0.52959502,\n",
       "         0.61452514,  0.        ,  0.26486989,  0.54285714,  0.        ],\n",
       "       [ 0.8028169 ,  0.08178603,  0.45256917,  0.        ,  0.85669782,\n",
       "         0.12476723,  1.        ,  0.14219331,  0.        ,  0.        ],\n",
       "       [ 0.71361502,  0.28647215,  0.57509881,  0.81291759,  0.11214953,\n",
       "         0.59404097,  0.00966184,  0.32527881,  0.        ,  0.        ],\n",
       "       [ 0.45539906,  0.27055703,  0.29051383,  0.72383073,  0.27102804,\n",
       "         0.69646182,  0.09983897,  0.32249071,  0.        ,  0.47058824],\n",
       "       [ 0.3943662 ,  0.12290009,  0.69565217,  0.68819599,  0.5576324 ,\n",
       "         0.45996276,  0.17713366,  0.15334572,  0.        ,  0.        ],\n",
       "       [ 0.4741784 ,  0.2648099 ,  0.3201581 ,  0.60579065,  0.41744548,\n",
       "         0.5698324 ,  0.11272142,  0.35315985,  0.        ,  0.        ],\n",
       "       [ 0.93896714,  0.16666667,  0.87351779,  0.        ,  0.6105919 ,\n",
       "         0.68715084,  0.        ,  0.2704461 ,  0.2       ,  0.        ],\n",
       "       [ 0.28169014,  0.34217507,  0.56719368,  0.80623608,  0.25545171,\n",
       "         0.52700186,  0.02254428,  0.30947955,  0.        ,  0.        ]])"
      ]
     },
     "execution_count": 16,
     "metadata": {},
     "output_type": "execute_result"
    }
   ],
   "source": [
    "X_test"
   ]
  },
  {
   "cell_type": "code",
   "execution_count": 17,
   "id": "8f4bd437",
   "metadata": {},
   "outputs": [],
   "source": [
    "def knn_training(x_train,y_train,x_test,k):\n",
    "    '''\n",
    "    x_train -> training data\n",
    "    y_train -> label for training\n",
    "    x_test -> validation data\n",
    "    k -> number of nearest neighbours\n",
    "    '''\n",
    "    \n",
    "    knn = KNeighborsClassifier(n_neighbors=k)\n",
    "    knn.fit(x_train,y_train)\n",
    "    prediction = knn.predict(x_test)\n",
    "    return prediction"
   ]
  },
  {
   "cell_type": "code",
   "execution_count": 18,
   "id": "48fbf977",
   "metadata": {},
   "outputs": [],
   "source": [
    "# how to decide the number of k ?\n",
    "# pros and cons of knn"
   ]
  },
  {
   "cell_type": "code",
   "execution_count": 19,
   "id": "c0ba33ae",
   "metadata": {},
   "outputs": [],
   "source": [
    "import math\n",
    "\n",
    "n = data.shape"
   ]
  },
  {
   "cell_type": "code",
   "execution_count": 20,
   "id": "cb7618b9",
   "metadata": {},
   "outputs": [
    {
     "data": {
      "text/plain": [
       "(214, 11)"
      ]
     },
     "execution_count": 20,
     "metadata": {},
     "output_type": "execute_result"
    }
   ],
   "source": [
    "n"
   ]
  },
  {
   "cell_type": "code",
   "execution_count": 22,
   "id": "73e872c3",
   "metadata": {},
   "outputs": [
    {
     "data": {
      "text/plain": [
       "14.628738838327793"
      ]
     },
     "execution_count": 22,
     "metadata": {},
     "output_type": "execute_result"
    }
   ],
   "source": [
    "k=math.sqrt(n[0])\n",
    "k"
   ]
  },
  {
   "cell_type": "code",
   "execution_count": 24,
   "id": "de61af5b",
   "metadata": {},
   "outputs": [
    {
     "data": {
      "text/plain": [
       "array([1, 7, 1, 7, 2, 2, 1, 2, 2, 2, 7, 2, 2, 2, 3, 5, 7, 1, 1, 7, 2, 7,\n",
       "       7, 7, 2, 1, 1, 1, 2, 1, 1, 2, 3, 2, 1, 7, 7, 2, 2, 2, 2, 7, 1])"
      ]
     },
     "execution_count": 24,
     "metadata": {},
     "output_type": "execute_result"
    }
   ],
   "source": [
    "knn_training(X_train,y_train,X_test,int(k))"
   ]
  },
  {
   "cell_type": "code",
   "execution_count": null,
   "id": "e0762fbf",
   "metadata": {},
   "outputs": [],
   "source": []
  }
 ],
 "metadata": {
  "kernelspec": {
   "display_name": "Python 3 (ipykernel)",
   "language": "python",
   "name": "python3"
  },
  "language_info": {
   "codemirror_mode": {
    "name": "ipython",
    "version": 3
   },
   "file_extension": ".py",
   "mimetype": "text/x-python",
   "name": "python",
   "nbconvert_exporter": "python",
   "pygments_lexer": "ipython3",
   "version": "3.11.3"
  }
 },
 "nbformat": 4,
 "nbformat_minor": 5
}
